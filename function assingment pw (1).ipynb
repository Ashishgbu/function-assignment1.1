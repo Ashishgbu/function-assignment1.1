{
 "cells": [
  {
   "cell_type": "code",
   "execution_count": 5,
   "id": "4922c327-8802-4523-ad34-279714c8ac66",
   "metadata": {},
   "outputs": [
    {
     "name": "stdin",
     "output_type": "stream",
     "text": [
      "Enter number 25\n"
     ]
    },
    {
     "name": "stdout",
     "output_type": "stream",
     "text": [
      "[1, 3, 5, 7, 9, 11, 13, 15, 17, 19, 21, 23, 25]\n"
     ]
    }
   ],
   "source": [
    "'''\n",
    "Q1. Which keyword is used to create a function? \n",
    "Create a function to return a list of odd numbers in the range of 1 to 25.\n",
    "ans- The def keyword is used to create,a function.\n",
    "'''\n",
    "n= int(input(\"Enter number\"))\n",
    "l=[]\n",
    "def only_odd(n):\n",
    "    for i in range(1,n+1):\n",
    "        if (i %2!=0):\n",
    "            l.append(i)\n",
    "    return l\n",
    "print(only_odd(n))\n",
    "            \n"
   ]
  },
  {
   "cell_type": "code",
   "execution_count": 6,
   "id": "54eeb87c-8bdc-451d-a686-4ae2d6354e00",
   "metadata": {},
   "outputs": [
    {
     "name": "stdout",
     "output_type": "stream",
     "text": [
      "16\n"
     ]
    }
   ],
   "source": [
    "'''\n",
    "Q2. Why *args and **kwargs is used in some functions? Create a function \n",
    "each for *args and **kwargs \n",
    "to demonstrate their use.\n",
    "Ans-*args and *kwargs as arguments of a function \n",
    "when we unsure about the number of argument to pass in the fuctions.\n",
    "'''\n",
    "# use of *args in python\n",
    "def add(*numbers):\n",
    "    total=0\n",
    "    for num in numbers:\n",
    "        total +=num\n",
    "    return total\n",
    "print(add(3,5,8))\n"
   ]
  },
  {
   "cell_type": "code",
   "execution_count": 8,
   "id": "a73bbf32-57d3-457a-a1b5-a3e23f011a8b",
   "metadata": {},
   "outputs": [
    {
     "name": "stdout",
     "output_type": "stream",
     "text": [
      "{'banana': 5, 'Mango': 7, 'Apple': 9}\n"
     ]
    }
   ],
   "source": [
    "#use of **keargs in python\n",
    "def total_fruits(**kwargs):\n",
    "    print(kwargs)\n",
    "total_fruits(banana=5,Mango=7,Apple=9)"
   ]
  },
  {
   "cell_type": "code",
   "execution_count": 10,
   "id": "57988d16-39d9-409a-bc70-38858b833b96",
   "metadata": {},
   "outputs": [
    {
     "name": "stdout",
     "output_type": "stream",
     "text": [
      "2\n",
      "4\n",
      "6\n",
      "8\n",
      "10\n"
     ]
    }
   ],
   "source": [
    "'''\n",
    "Q3. What is an iterator in python? Name the method used to initialise the iterator object and the method \n",
    "used for iteration. \n",
    "Use these methods to print the first five elements of the given list \n",
    "[2, 4, 6, 8, 10, 12, 14,16, 18, 20]\n",
    "Ans- Iterator are objects that allow you to traverse through all the elements of a collection and return\n",
    "one lelement at a time.\n",
    "'''\n",
    "l=[2,4,6,8,10,12,14,16,18,20]\n",
    "l_Iter= iter(l)\n",
    "print(next(l_Iter))\n",
    "print(next(l_Iter))\n",
    "print(next(l_Iter))\n",
    "print(next(l_Iter))\n",
    "print(next(l_Iter))\n",
    "\n",
    "\n",
    "\n",
    "\n"
   ]
  },
  {
   "cell_type": "code",
   "execution_count": 11,
   "id": "b0f279a9-c518-4150-96c1-4b225b8b27a1",
   "metadata": {},
   "outputs": [
    {
     "name": "stdin",
     "output_type": "stream",
     "text": [
      "Enter the number 10\n"
     ]
    },
    {
     "name": "stdout",
     "output_type": "stream",
     "text": [
      "0\n",
      "1\n",
      "1\n",
      "2\n",
      "3\n",
      "5\n",
      "8\n",
      "13\n",
      "21\n",
      "34\n"
     ]
    }
   ],
   "source": [
    "'''\n",
    "Q4. Write a python program to print the first 10 Fibonacci numbers using a while loop.\n",
    "'''\n",
    "n= int(input(\"Enter the number\"))\n",
    "a=-1\n",
    "b=1\n",
    "for i in range(1,n+1):\n",
    "    c=a+b\n",
    "    print(c)\n",
    "    a=b\n",
    "    b=c\n",
    "\n",
    "\n",
    "\n"
   ]
  },
  {
   "cell_type": "code",
   "execution_count": 12,
   "id": "0bc4a5c0-9633-4854-aeae-174b7f47db7e",
   "metadata": {},
   "outputs": [
    {
     "name": "stdout",
     "output_type": "stream",
     "text": [
      "['p', 'w', 's', 'k', 'i', 'l', 'l', 's']\n"
     ]
    }
   ],
   "source": [
    "'''\n",
    "Q5. Write a List Comprehension to iterate through the given string: ‘pwskills’.\n",
    "\n",
    "Expected output: ['p', 'w', 's', 'k', 'i', 'l', 'l', 's']\n",
    "'''\n",
    "\n",
    "l=[]\n",
    "for i in \"pwskills\":\n",
    "    l.append(i)\n",
    "print(l)\n",
    "\n",
    "\n"
   ]
  },
  {
   "cell_type": "code",
   "execution_count": 15,
   "id": "035df1f1-3f12-446a-8c8c-91f5c93f0711",
   "metadata": {},
   "outputs": [
    {
     "name": "stdin",
     "output_type": "stream",
     "text": [
      "Enter number: 121\n"
     ]
    },
    {
     "name": "stdout",
     "output_type": "stream",
     "text": [
      "yes,number is palindrome\n"
     ]
    }
   ],
   "source": [
    "'''\n",
    "Q6. Write a python program to check whether a given number is Palindrome or not using a while loop.\n",
    "'''\n",
    "n=int(input(\"Enter number:\"))\n",
    "tem=n\n",
    "rev=0\n",
    "while n>0:\n",
    "    rev=(rev*10)+(n%10)\n",
    "    n= n//10\n",
    "if tem==rev:\n",
    "    print(\"yes,number is palindrome\")\n",
    "else:\n",
    "    print(\"number is not palindrome\")\n",
    "\n",
    "\n"
   ]
  },
  {
   "cell_type": "code",
   "execution_count": 16,
   "id": "1e305c66-b5ba-4407-a2e8-eaf6f11d2221",
   "metadata": {},
   "outputs": [
    {
     "name": "stdout",
     "output_type": "stream",
     "text": [
      "[1, 3, 5, 7, 9, 11, 13, 15, 17, 19, 21, 23, 25, 27, 29, 31, 33, 35, 37, 39, 41, 43, 45, 47, 49, 51, 53, 55, 57, 59, 61, 63, 65, 67, 69, 71, 73, 75, 77, 79, 81, 83, 85, 87, 89, 91, 93, 95, 97, 99]\n"
     ]
    }
   ],
   "source": [
    "'''\n",
    "Q7. Write a code to print odd numbers from 1 to 100 using list comprehension.\n",
    "'''\n",
    "l1=[ i for i in range(1,101) if(i%2!=0)]\n",
    "print(l1)"
   ]
  },
  {
   "cell_type": "code",
   "execution_count": 17,
   "id": "6e6c186f-9d1a-4aa0-9a3e-9edd0eb3fb84",
   "metadata": {},
   "outputs": [
    {
     "name": "stdout",
     "output_type": "stream",
     "text": [
      "0\n",
      "1\n",
      "1\n",
      "2\n",
      "3\n",
      "5\n",
      "8\n",
      "13\n",
      "21\n",
      "34\n"
     ]
    }
   ],
   "source": [
    "'''\n",
    "Q8. What is a generator function in python? Why yield keyword is used? Give an example of a generator \n",
    "function.\n",
    "ans- Python Generators are the functions that return the traversal object and used to create iterators. \n",
    "It traverses the entire items at once. \n",
    "The generator can also be an expression in which syntax is similar to the list comprehension in Python.\n",
    "It is quite simple to create a generator in Python. It is similar to the normal function defined by \n",
    "the def keyword and uses a yield keyword instead of return. \n",
    "Or we cansay that if the body of any function contains a yield statement, it automatically \n",
    "becomes a generator function.\n",
    "'''\n",
    "def test_fib(n):\n",
    "    a,b=0,1\n",
    "    for i in range(n):\n",
    "        yield a\n",
    "        a,b=b,a+b\n",
    "for i in test_fib(10):\n",
    "    print(i)\n"
   ]
  },
  {
   "cell_type": "code",
   "execution_count": 32,
   "id": "4a8ef1bd-eff3-4e80-b2bc-e2c50953817c",
   "metadata": {},
   "outputs": [],
   "source": [
    "'''\n",
    "Q10. Create a generator function for prime numbers less than 1000. Use the next() method to print the \n",
    "first 20 prime numbers.\n",
    "ans- Instead of applying a for loop, we can also call next() on the generator object.\n",
    "'''\n",
    "def test_fib1():\n",
    "    a,b=0,1\n",
    "    while True:\n",
    "        yield a\n",
    "        a,b = b,a+b\n",
    "\n",
    "        \n"
   ]
  },
  {
   "cell_type": "code",
   "execution_count": 33,
   "id": "1605c706-42a5-4f83-a1cb-5edf660f6b0c",
   "metadata": {},
   "outputs": [],
   "source": [
    "fib = test_fib1()\n"
   ]
  },
  {
   "cell_type": "code",
   "execution_count": 34,
   "id": "efcaf588-80bb-43e5-8298-c5f77c6dbd22",
   "metadata": {},
   "outputs": [
    {
     "name": "stdout",
     "output_type": "stream",
     "text": [
      "0\n",
      "1\n",
      "1\n",
      "2\n",
      "3\n",
      "5\n",
      "8\n",
      "13\n",
      "21\n",
      "34\n"
     ]
    }
   ],
   "source": [
    "for i in range(10):\n",
    "    print(next(fib))"
   ]
  },
  {
   "cell_type": "code",
   "execution_count": null,
   "id": "8ffcd8cd-829f-4442-a07c-a5fcd0651f36",
   "metadata": {},
   "outputs": [],
   "source": []
  },
  {
   "cell_type": "code",
   "execution_count": null,
   "id": "2c00f56f-5cdd-4427-9ac4-376c03053f59",
   "metadata": {},
   "outputs": [],
   "source": []
  }
 ],
 "metadata": {
  "kernelspec": {
   "display_name": "Python 3 (ipykernel)",
   "language": "python",
   "name": "python3"
  },
  "language_info": {
   "codemirror_mode": {
    "name": "ipython",
    "version": 3
   },
   "file_extension": ".py",
   "mimetype": "text/x-python",
   "name": "python",
   "nbconvert_exporter": "python",
   "pygments_lexer": "ipython3",
   "version": "3.10.8"
  }
 },
 "nbformat": 4,
 "nbformat_minor": 5
}
